{
 "cells": [
  {
   "cell_type": "markdown",
   "metadata": {},
   "source": [
    "# 5.1 Computational Graph\n",
    "# 5.2 Chain Rule\n",
    "# 5.3 Backpropagation"
   ]
  },
  {
   "cell_type": "markdown",
   "metadata": {},
   "source": [
    "# 5.4 단순한 계층 구현\n",
    "## 5.4.1 곱셈 계층"
   ]
  },
  {
   "cell_type": "code",
   "execution_count": 1,
   "metadata": {},
   "outputs": [],
   "source": [
    "class MulLayer:\n",
    "    def __init__(self):\n",
    "        self.x = None\n",
    "        self.y = None\n",
    "        \n",
    "    def forward(self, x, y):\n",
    "        self.x = x\n",
    "        self.y = y\n",
    "        out = x * y\n",
    "        return out\n",
    "    \n",
    "    def backward(self, dout):\n",
    "        dx = dout * self.y\n",
    "        dy = dout * self.x\n", 
    "        return dx, dy"
   ]
  },
  {
   "cell_type": "code",
   "execution_count": 2,
   "metadata": {},
   "outputs": [],
   "source": [
    "mul_applenum_appleprice_layer = MulLayer()\n",
    "mul_totalprice_tax_layer = MulLayer()"
   ]
  },
  {
   "cell_type": "code",
   "execution_count": 3,
   "metadata": {},
   "outputs": [],
   "source": [
    "# forward\n",
    "apple_num, apple_price, tax = 2, 100, 1.1\n",
    "\n",
    "totalprice = mul_applenum_appleprice_layer.forward(apple_num, apple_price)\n",
    "totalprice_tax = mul_totalprice_tax_layer.forward(totalprice, tax)"
   ]
  },
  {
   "cell_type": "code",
   "execution_count": 4,
   "metadata": {},
   "outputs": [
    {
     "name": "stdout",
     "output_type": "stream",
     "text": [
      "1.1 200 110.0 2.2\n"
     ]
    }
   ],
   "source": [
    "# backward\n",
    "dtotalprice_tax = 1\n",
    "dtotalprice, dtax = mul_totalprice_tax_layer.backward(dtotalprice_tax)\n",
    "dapple_num, dapple_price = mul_applenum_appleprice_layer.backward(dtotalprice)\n",
    "\n",
    "print(dtotalprice, dtax, round(dapple_num, 1), dapple_price)"
   ]
  },
  {
   "cell_type": "markdown",
   "metadata": {},
   "source": [
    "## 5.4.2 덧셈 계층"
   ]
  },
  {
   "cell_type": "code",
   "execution_count": 5,
   "metadata": {},
   "outputs": [],
   "source": [
    "class AddLayer:\n",
    "    def __init__(self):\n",
    "        pass\n",
    "    \n",
    "    def forward(self, x, y):\n",
    "        out = x + y\n",
    "        return out\n",
    "    \n",
    "    def backward(self, dout):\n",
    "        dx = dout * 1\n",
    "        dy = dout * 1\n",
    "        return dx, dy"
   ]
  },
  {
   "cell_type": "code",
   "execution_count": 6,
   "metadata": {},
   "outputs": [],
   "source": [
    "apple_num, apple_price = 2, 100\n",
    "orange_num, orange_price = 3, 150\n",
    "tax = 1.1\n",
    "\n",
    "apple_mul_layer = MulLayer()\n",
    "orange_mul_layer = MulLayer()\n",
    "apple_orange_add_layer = AddLayer()\n",
    "totalprice_tax_mul_layer = MulLayer()"
   ]
  },
  {
   "cell_type": "code",
   "execution_count": 7,
   "metadata": {},
   "outputs": [
    {
     "name": "stdout",
     "output_type": "stream",
     "text": [
      "200 450 650 715.0\n"
     ]
    }
   ],
   "source": [
    "# forward\n",
    "apple_totalprice = apple_mul_layer.forward(apple_num, apple_price)\n",
    "orange_totalprice = orange_mul_layer.forward(orange_num, orange_price)\n",
    "totalprice = apple_orange_add_layer.forward(apple_totalprice, orange_totalprice)\n",
    "totalprice_tax = totalprice_tax_mul_layer.forward(totalprice, tax)\n",
    "\n",
    "print(apple_totalprice, orange_totalprice, totalprice, round(totalprice_tax, 1))"
   ]
  },
  {
   "cell_type": "code",
   "execution_count": 8,
   "metadata": {},
   "outputs": [
    {
     "name": "stdout",
     "output_type": "stream",
     "text": [
      "110.0 2.2 165.0 3.3 650\n"
     ]
    }
   ],
   "source": [
    "# backward\n",
    "dtotalprice_tax = 1\n",
    "dtotalprice, dtax = totalprice_tax_mul_layer.backward(dtotalprice_tax)\n",
    "\n",
    "dapple_totalprice, dorange_totalprice = apple_orange_add_layer.backward(dtotalprice)\n",
    "dapple_num, dapple_price = apple_mul_layer.backward(dapple_totalprice)\n",
    "dorange_num, dorange_price = orange_mul_layer.backward(dorange_totalprice)\n",
    "\n",
    "print(round(dapple_num, 1), dapple_price, dorange_num, round(dorange_price, 1), dtax)"
   ]
  },
  {
   "cell_type": "markdown",
   "metadata": {},
   "source": [
    "# 5.5 활성화 함수 계층 구현\n",
    "## 5.5.1 ReLU 계층"
   ]
  },
  {
   "cell_type": "code",
   "execution_count": 9,
   "metadata": {},
   "outputs": [],
   "source": [
    "class ReLU:\n",
    "    def __init__(self):\n",
    "        pass\n",
    "    \n",
    "    def forward(self, x):\n",
    "        self.mask = (x <= 0)\n",
    "        out = x.copy()\n",
    "        out[self.mask] = 0\n",
    "        return out\n",
    "    \n",
    "    def backward(self, dout):\n",
    "        dx = dout.copy()\n",
    "        dx[self.mask] = 0\n",
    "        return dx"
   ]
  },
  {
   "cell_type": "markdown",
   "metadata": {},
   "source": [
    "## 5.5.2 Sigmoid 계층"
   ]
  },
  {
   "cell_type": "code",
   "execution_count": 10,
   "metadata": {},
   "outputs": [],
   "source": [
    "class sigmoid:\n",
    "    def __init__(self):\n",
    "        self.out = None\n",
    "    \n",
    "    def forward(self, x):\n",
    "        out = 1 / (1 + np.exp(-x))\n",
    "        self.out = out\n",
    "        return out\n",
    "    \n",
    "    def backward(self, dout):\n",
    "        dx = dout * (1 - self.out) * self.out\n",
    "        return dx"
   ]
  },
  {
   "cell_type": "markdown",
   "metadata": {},
   "source": [
    "# 5.6 Affine/Softmax 계층 구현\n",
    "## 5.6.1, 5.6.2 Affine 계층"
   ]
  },
  {
   "cell_type": "code",
   "execution_count": 11,
   "metadata": {},
   "outputs": [],
   "source": [
    "class Affine:\n",
    "    def __init__(self, W, b):\n",
    "        self.W = W\n",
    "        self.b = b\n",
    "        self.x, self.dW, self.db = None, None, None\n",
    "        \n",
    "    def forward(self, x):\n",
    "        self.x = x\n",
    "        out = np.dot(x, self.W) + self.b\n",
    "        return out\n",
    "    \n",
    "    def backward(self, dout):\n",
    "        dx = np.dot(dout, self.W.T)\n",
    "        self.dW = np.dot(self.x.T, dout)\n",
    "        self.db = np.sum(dout, axis = 0)\n",
    "        return dx"
   ]
  },
  {
   "cell_type": "markdown",
   "metadata": {},
   "source": [
    "## 5.6.3 Softmax-with-Loss 계층"
   ]
  },
  {
   "cell_type": "code",
   "execution_count": 12,
   "metadata": {},
   "outputs": [],
   "source": [
    "def softmax(x):\n",
    "    nom = np.exp(x - np.max(x, axis = 1)[:, np.newaxis])\n",
    "    denom = np.sum(nom, axis = 1)[:, np.newaxis]\n",
    "    return nom / denom\n",
    "\n",
    "def cross_entropy_error(y, t):\n",
    "    delta = 1e-7\n",
    "    if y.ndim != 1 and t.ndim != 1:\n",
    "        t = t.flatten()\n",
    "        y = y.flatten()\n",
    "        return -np.sum(t*np.log(y + delta) / y.shape[0]) \n",
    "    else:\n",
    "        return -np.sum(t*np.log(y + delta)) "
   ]
  },
  {
   "cell_type": "code",
   "execution_count": 13,
   "metadata": {},
   "outputs": [],
   "source": [
    "class SoftmaxWithLoss:\n",
    "    def __init__(self):\n",
    "        self.loss = None\n",
    "        self.t = None\n",
    "        self.y = None\n",
    "        \n",
    "    def forward(self, x, t):\n",
    "        self.y = softmax(x)\n",
    "        self.t = t\n",
    "        self.loss = cross_entropy_error(self.y, self.t)\n",
    "        return self.loss\n",
    "    \n",
    "    def backward(self, dout = 1):\n",
    "        batch_size = self.y.shape[0]\n",
    "        dx = (self.y - self.t) / batch_size\n",
    "        return dx"
   ]
  },
  {
   "cell_type": "markdown",
   "metadata": {},
   "source": [
    "# 5.7 오차역전파법 구현하기"
   ]
  },
  {
   "cell_type": "code",
   "execution_count": 14,
   "metadata": {},
   "outputs": [],
   "source": [
    "from collections import OrderedDict\n",
    "import numpy as np"
   ]
  },
  {
   "cell_type": "code",
   "execution_count": 15,
   "metadata": {},
   "outputs": [],
   "source": [
    "class TwoLayerNet:\n",
    "    def __init__(self, input_size, hidden_size, output_size, weight_init_std = 0.01):\n",
    "        self.params = {}\n",
    "        self.params['W1'] = np.random.normal(size = (input_size, hidden_size)) * weight_init_std\n",
    "        self.params['b1'] = np.zeros(hidden_size)\n",
    "        self.params['W2'] = np.random.normal(size = (hidden_size, output_size)) * weight_init_std\n",
    "        self.params['b2'] = np.zeros(output_size)\n",
    "        \n",
    "        self.layers = OrderedDict()\n",
    "        self.layers['Affine1'] = Affine(self.params['W1'], self.params['b1'])\n",
    "        self.layers['Relu'] = ReLU()\n",
    "        self.layers['Affine2'] = Affine(self.params['W2'], self.params['b2'])\n",
    "        self.lastlayer = SoftmaxWithLoss()\n",
    "        \n",
    "    def predict(self, x):\n",
    "        for layer in self.layers.values():\n",
    "            x = layer.forward(x)\n",
    "        return x\n",
    "    \n",
    "    def loss(self, x, t):\n",
    "        y = self.predict(x)\n",
    "        loss = self.lastlayer.forward(y, t)\n",
    "        return loss\n",
    "    \n",
    "    def accuracy(self, x, t):\n",
    "        y = self.predict(x)\n",
    "        y = np.argmax(y, axis = 1)\n",
    "        t = np.argmax(t, axis = 1)\n",
    "        return np.sum(y == t) / x.shape[0]\n",
    "    \n",
    "    def gradient(self, x, t):\n",
    "        # 순전파 - 미분값들 저장\n",
    "        self.loss(x, t)\n",
    "        \n",
    "        # 역전파\n",
    "        dout = 1\n",
    "        dout = self.lastlayer.backward(dout)\n",
    "        layers = list(self.layers.values())\n",
    "        layers.reverse()\n",
    "        \n",
    "        for layer in layers:\n",
    "            dout = layer.backward(dout)\n",
    "            \n",
    "        grads = {}\n",
    "        grads['W1'] = self.layers['Affine1'].dW\n",
    "        grads['b1'] = self.layers['Affine1'].db\n",
    "        grads['W2'] = self.layers['Affine2'].dW\n",
    "        grads['b2'] = self.layers['Affine2'].db\n",
    "        \n",
    "        return grads"
   ]
  },
  {
   "cell_type": "code",
   "execution_count": 16,
   "metadata": {},
   "outputs": [],
   "source": [
    "from tensorflow.python.keras.datasets.mnist import load_data\n",
    "\n",
    "(X_train, y_train), (X_test,y_test) = load_data()\n",
    "X_train, X_test = X_train.reshape(60000,-1) / 255, X_test.reshape(10000, -1) / 255\n",
    "\n",
    "from sklearn.preprocessing import OneHotEncoder\n",
    "\n",
    "enc = OneHotEncoder()\n",
    "enc.fit(y_train.reshape(-1, 1))\n",
    "y_train, y_test = enc.transform(y_train.reshape(-1, 1)).toarray(), enc.transform(y_test.reshape(-1, 1)).toarray()"
   ]
  },
  {
   "cell_type": "code",
   "execution_count": 17,
   "metadata": {},
   "outputs": [],
   "source": [
    "def mini_batch(x, y, batch_size):\n",
    "    mask = np.random.choice(x.shape[0], batch_size)\n",
    "    return x[mask], y[mask]"
   ]
  },
  {
   "cell_type": "code",
   "execution_count": 18,
   "metadata": {},
   "outputs": [
    {
     "name": "stdout",
     "output_type": "stream",
     "text": [
      "0th loss : 0.2301676215231189, train accuracy : 0.15538333333333335, test accuracy is : 0.1508\n",
      "400th loss : 0.038001017950710266, train accuracy : 0.894, test accuracy is : 0.8966\n",
      "800th loss : 0.03053793956245532, train accuracy : 0.9131833333333333, test accuracy is : 0.9162\n",
      "1200th loss : 0.027045674931221585, train accuracy : 0.9222166666666667, test accuracy is : 0.924\n",
      "1600th loss : 0.023809443439539425, train accuracy : 0.9327833333333333, test accuracy is : 0.9331\n",
      "2000th loss : 0.021749680680547792, train accuracy : 0.9398666666666666, test accuracy is : 0.9388\n",
      "2400th loss : 0.01958999946097577, train accuracy : 0.9447166666666666, test accuracy is : 0.9422\n",
      "2800th loss : 0.018006157762278173, train accuracy : 0.94975, test accuracy is : 0.9471\n",
      "3200th loss : 0.01669176894138726, train accuracy : 0.95295, test accuracy is : 0.9513\n",
      "3600th loss : 0.01578119230189514, train accuracy : 0.9547333333333333, test accuracy is : 0.9518\n",
      "4000th loss : 0.014607211675359152, train accuracy : 0.9595, test accuracy is : 0.954\n",
      "4400th loss : 0.013958170266504935, train accuracy : 0.96135, test accuracy is : 0.9572\n",
      "4800th loss : 0.013041490150179259, train accuracy : 0.9625833333333333, test accuracy is : 0.9584\n",
      "5200th loss : 0.012425417706617512, train accuracy : 0.9651333333333333, test accuracy is : 0.9609\n",
      "5600th loss : 0.011801366863714875, train accuracy : 0.9658666666666667, test accuracy is : 0.9616\n",
      "6000th loss : 0.011454340876422118, train accuracy : 0.9681166666666666, test accuracy is : 0.9623\n",
      "6400th loss : 0.01080711038645619, train accuracy : 0.9697666666666667, test accuracy is : 0.9634\n",
      "6800th loss : 0.010226433978594001, train accuracy : 0.9713333333333334, test accuracy is : 0.9648\n",
      "7200th loss : 0.009753230258419777, train accuracy : 0.9722166666666666, test accuracy is : 0.9674\n",
      "7600th loss : 0.009787178862296042, train accuracy : 0.9726, test accuracy is : 0.9646\n",
      "8000th loss : 0.009002641670338403, train accuracy : 0.9744833333333334, test accuracy is : 0.9673\n",
      "8400th loss : 0.008904642233451615, train accuracy : 0.9751833333333333, test accuracy is : 0.966\n",
      "8800th loss : 0.008621126970869347, train accuracy : 0.9756, test accuracy is : 0.9665\n",
      "9200th loss : 0.008187141274888399, train accuracy : 0.9770333333333333, test accuracy is : 0.9695\n",
      "9600th loss : 0.008086776390569865, train accuracy : 0.9770333333333333, test accuracy is : 0.9677\n"
     ]
    }
   ],
   "source": [
    "iters_num = 10000\n",
    "batch_size = 150\n",
    "iters_per_epoch = X_train.shape[0] / batch_size\n",
    "learning_rate = 0.1\n",
    "train_loss, train_accuracy, test_accuracy = [], [], []\n",
    "\n",
    "net = TwoLayerNet(input_size = X_train.shape[1], hidden_size = 50, output_size = 10)\n",
    "for i in range(iters_num):\n",
    "    x_batch, y_batch = mini_batch(X_train, y_train, batch_size)\n",
    "    \n",
    "    grads = net.gradient(x_batch, y_batch)\n",
    "    \n",
    "    for grad in grads.keys():\n",
    "        net.params[grad] -=  learning_rate * grads[grad]\n",
    "        \n",
    "    if i % iters_per_epoch == 0:\n",
    "        loss = net.loss(X_train, y_train)\n",
    "        train_acc, test_acc = net.accuracy(X_train, y_train), net.accuracy(X_test, y_test)\n",
    "        train_loss.append(loss)\n",
    "        train_accuracy.append(train_acc)\n",
    "        test_accuracy.append(test_acc)\n",
    "        \n",
    "        print(\"{0}th loss : {1}, train accuracy : {2}, test accuracy is : {3}\".format(i, loss, train_acc, test_acc))"
   ]
  },
  {
   "cell_type": "code",
   "execution_count": 19,
   "metadata": {},
   "outputs": [
    {
     "data": {
      "image/png": "[encoded data removed]",
      "text/plain": [
       "<Figure size 576x432 with 1 Axes>"
      ]
     },
     "metadata": {},
     "output_type": "display_data"
    }
   ],
   "source": [
    "import matplotlib.pyplot as plt\n",
    "\n",
    "plt.style.use('ggplot')\n",
    "plt.figure(figsize = (8, 6))\n",
    "x = list(range(0, 10 ** 4, 400))\n",
    "plt.plot(x, train_accuracy, 'b', label = 'Train Accuracy')\n",
    "plt.plot(x, test_accuracy, 'r--', label = 'Test Accuracy')\n",
    "plt.title('Two Neural Network Accuracy')\n",
    "plt.legend()\n",
    "plt.show()"
   ]
  }
 ],
 "metadata": {
  "kernelspec": {
   "display_name": "Python 3",
   "language": "python",
   "name": "python3"
  },
  "language_info": {
   "codemirror_mode": {
    "name": "ipython",
    "version": 3
   },
   "file_extension": ".py",
   "mimetype": "text/x-python",
   "name": "python",
   "nbconvert_exporter": "python",
   "pygments_lexer": "ipython3",
   "version": "3.7.3"
  }
 },
 "nbformat": 4,
 "nbformat_minor": 4
}
